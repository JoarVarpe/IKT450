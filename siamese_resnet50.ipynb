{
  "nbformat": 4,
  "nbformat_minor": 0,
  "metadata": {
    "colab": {
      "name": "siamese_resnet50.ipynb",
      "provenance": [],
      "collapsed_sections": []
    },
    "kernelspec": {
      "name": "python3",
      "display_name": "Python 3"
    },
    "accelerator": "GPU"
  },
  "cells": [
    {
      "cell_type": "code",
      "metadata": {
        "colab": {
          "base_uri": "https://localhost:8080/"
        },
        "id": "6Gvlv76jO9b3",
        "outputId": "337c6776-c1ef-4684-ad54-d1dc6f81b41c"
      },
      "source": [
        "%matplotlib inline\n",
        "! realpath IKT450\n",
        "from google.colab import drive\n",
        "drive.mount('/content/gdrive')\n",
        "!ls /content/gdrive/MyDrive\n",
        "! git clone https://github.com/JoarVarpe/IKT450.git\n",
        "!nvidia-smi\n",
        "\n",
        "from collections import Counter\n",
        "import torchvision\n",
        "import torchvision.datasets as dset\n",
        "import torchvision.transforms as transforms\n",
        "from torch.utils.data import DataLoader,Dataset\n",
        "import matplotlib.pyplot as plt\n",
        "import torchvision.utils\n",
        "import numpy as np\n",
        "import random\n",
        "import glob\n",
        "from PIL import Image\n",
        "import torch\n",
        "from torch.autograd import Variable\n",
        "import PIL.ImageOps    \n",
        "import torch.nn as nn\n",
        "from torch import optim\n",
        "import torch.nn.functional as F\n",
        "import torchvision\n",
        "\n",
        "random.seed(7)"
      ],
      "execution_count": 1,
      "outputs": [
        {
          "output_type": "stream",
          "text": [
            "/content/IKT450\n",
            "Drive already mounted at /content/gdrive; to attempt to forcibly remount, call drive.mount(\"/content/gdrive\", force_remount=True).\n",
            " 20201124_025526.jpg\t\t\t     res_50_17.pt\n",
            " Candito+Linear+Program.pdf\t\t     res_50_19.pt\n",
            " classifier0.pt\t\t\t\t     res_50_1.pt\n",
            " classifier12.pt\t\t\t     res_50_20.pt\n",
            " classifier13.pt\t\t\t     res_50_25.pt\n",
            " classifier14.pt\t\t\t     res_50_2.pt\n",
            " classifier16.pt\t\t\t     res_50_30.pt\n",
            " classifier1.pt\t\t\t\t     res_50_35.pt\n",
            " classifier2.pt\t\t\t\t     res_50_38.pt\n",
            " classifier3.pt\t\t\t\t     res_50_39.pt\n",
            " classifier4.pt\t\t\t\t     res_50_3.pt\n",
            " classifier5.pt\t\t\t\t     res_50_40.pt\n",
            " classifier6.pt\t\t\t\t     res_50_45.pt\n",
            " classifier7.pt\t\t\t\t     res_50_48.pt\n",
            " classifier_body0.pt\t\t\t     res_50_49.pt\n",
            " classifier_body11.pt\t\t\t     res_50_50.pt\n",
            " classifier_body1.pt\t\t\t     res_50_55.pt\n",
            " classifier_body2.pt\t\t\t     res_50_5.pt\n",
            " classifier_body3.pt\t\t\t     res_50_60.pt\n",
            " classifier_body5.pt\t\t\t     res_50_65.pt\n",
            "'Colab Notebooks'\t\t\t     res_50_70.pt\n",
            "'Husleieavtale Joar Varpe 2-1 signert.pdf'   res_50_75.pt\n",
            "'Mal nr 1 Joar.gdoc'\t\t\t     res_50_80.pt\n",
            " node_wow.gslides\t\t\t     res_50_84.pt\n",
            " R300129866-123417.pdf\t\t\t     res_50_85.pt\n",
            " res_50_0.pt\t\t\t\t     res_50_88.pt\n",
            " res_50_10.pt\t\t\t\t     res_50_90.pt\n",
            " res_50_15.pt\t\t\t\t     res_50_95.pt\n",
            "fatal: destination path 'IKT450' already exists and is not an empty directory.\n",
            "Wed Dec  2 12:51:28 2020       \n",
            "+-----------------------------------------------------------------------------+\n",
            "| NVIDIA-SMI 455.38       Driver Version: 418.67       CUDA Version: 10.1     |\n",
            "|-------------------------------+----------------------+----------------------+\n",
            "| GPU  Name        Persistence-M| Bus-Id        Disp.A | Volatile Uncorr. ECC |\n",
            "| Fan  Temp  Perf  Pwr:Usage/Cap|         Memory-Usage | GPU-Util  Compute M. |\n",
            "|                               |                      |               MIG M. |\n",
            "|===============================+======================+======================|\n",
            "|   0  Tesla T4            Off  | 00000000:00:04.0 Off |                    0 |\n",
            "| N/A   72C    P8    12W /  70W |      0MiB / 15079MiB |      0%      Default |\n",
            "|                               |                      |                 ERR! |\n",
            "+-------------------------------+----------------------+----------------------+\n",
            "                                                                               \n",
            "+-----------------------------------------------------------------------------+\n",
            "| Processes:                                                                  |\n",
            "|  GPU   GI   CI        PID   Type   Process name                  GPU Memory |\n",
            "|        ID   ID                                                   Usage      |\n",
            "|=============================================================================|\n",
            "|  No running processes found                                                 |\n",
            "+-----------------------------------------------------------------------------+\n"
          ],
          "name": "stdout"
        }
      ]
    },
    {
      "cell_type": "code",
      "metadata": {
        "colab": {
          "base_uri": "https://localhost:8080/"
        },
        "id": "LCZHtRe5PDj6",
        "outputId": "9be93644-496c-4bb8-e5e3-847b32856358"
      },
      "source": [
        "model = torch.hub.load('pytorch/vision:v0.6.0', 'resnet50', pretrained=True)\n",
        "# model.fc = torch.nn.Linear( in_features=512,out_features=128) #res18\n",
        "model.fc = torch.nn.Linear( in_features=2048,out_features=128) #res50\n",
        "model\n"
      ],
      "execution_count": 2,
      "outputs": [
        {
          "output_type": "stream",
          "text": [
            "Using cache found in /root/.cache/torch/hub/pytorch_vision_v0.6.0\n"
          ],
          "name": "stderr"
        },
        {
          "output_type": "execute_result",
          "data": {
            "text/plain": [
              "ResNet(\n",
              "  (conv1): Conv2d(3, 64, kernel_size=(7, 7), stride=(2, 2), padding=(3, 3), bias=False)\n",
              "  (bn1): BatchNorm2d(64, eps=1e-05, momentum=0.1, affine=True, track_running_stats=True)\n",
              "  (relu): ReLU(inplace=True)\n",
              "  (maxpool): MaxPool2d(kernel_size=3, stride=2, padding=1, dilation=1, ceil_mode=False)\n",
              "  (layer1): Sequential(\n",
              "    (0): Bottleneck(\n",
              "      (conv1): Conv2d(64, 64, kernel_size=(1, 1), stride=(1, 1), bias=False)\n",
              "      (bn1): BatchNorm2d(64, eps=1e-05, momentum=0.1, affine=True, track_running_stats=True)\n",
              "      (conv2): Conv2d(64, 64, kernel_size=(3, 3), stride=(1, 1), padding=(1, 1), bias=False)\n",
              "      (bn2): BatchNorm2d(64, eps=1e-05, momentum=0.1, affine=True, track_running_stats=True)\n",
              "      (conv3): Conv2d(64, 256, kernel_size=(1, 1), stride=(1, 1), bias=False)\n",
              "      (bn3): BatchNorm2d(256, eps=1e-05, momentum=0.1, affine=True, track_running_stats=True)\n",
              "      (relu): ReLU(inplace=True)\n",
              "      (downsample): Sequential(\n",
              "        (0): Conv2d(64, 256, kernel_size=(1, 1), stride=(1, 1), bias=False)\n",
              "        (1): BatchNorm2d(256, eps=1e-05, momentum=0.1, affine=True, track_running_stats=True)\n",
              "      )\n",
              "    )\n",
              "    (1): Bottleneck(\n",
              "      (conv1): Conv2d(256, 64, kernel_size=(1, 1), stride=(1, 1), bias=False)\n",
              "      (bn1): BatchNorm2d(64, eps=1e-05, momentum=0.1, affine=True, track_running_stats=True)\n",
              "      (conv2): Conv2d(64, 64, kernel_size=(3, 3), stride=(1, 1), padding=(1, 1), bias=False)\n",
              "      (bn2): BatchNorm2d(64, eps=1e-05, momentum=0.1, affine=True, track_running_stats=True)\n",
              "      (conv3): Conv2d(64, 256, kernel_size=(1, 1), stride=(1, 1), bias=False)\n",
              "      (bn3): BatchNorm2d(256, eps=1e-05, momentum=0.1, affine=True, track_running_stats=True)\n",
              "      (relu): ReLU(inplace=True)\n",
              "    )\n",
              "    (2): Bottleneck(\n",
              "      (conv1): Conv2d(256, 64, kernel_size=(1, 1), stride=(1, 1), bias=False)\n",
              "      (bn1): BatchNorm2d(64, eps=1e-05, momentum=0.1, affine=True, track_running_stats=True)\n",
              "      (conv2): Conv2d(64, 64, kernel_size=(3, 3), stride=(1, 1), padding=(1, 1), bias=False)\n",
              "      (bn2): BatchNorm2d(64, eps=1e-05, momentum=0.1, affine=True, track_running_stats=True)\n",
              "      (conv3): Conv2d(64, 256, kernel_size=(1, 1), stride=(1, 1), bias=False)\n",
              "      (bn3): BatchNorm2d(256, eps=1e-05, momentum=0.1, affine=True, track_running_stats=True)\n",
              "      (relu): ReLU(inplace=True)\n",
              "    )\n",
              "  )\n",
              "  (layer2): Sequential(\n",
              "    (0): Bottleneck(\n",
              "      (conv1): Conv2d(256, 128, kernel_size=(1, 1), stride=(1, 1), bias=False)\n",
              "      (bn1): BatchNorm2d(128, eps=1e-05, momentum=0.1, affine=True, track_running_stats=True)\n",
              "      (conv2): Conv2d(128, 128, kernel_size=(3, 3), stride=(2, 2), padding=(1, 1), bias=False)\n",
              "      (bn2): BatchNorm2d(128, eps=1e-05, momentum=0.1, affine=True, track_running_stats=True)\n",
              "      (conv3): Conv2d(128, 512, kernel_size=(1, 1), stride=(1, 1), bias=False)\n",
              "      (bn3): BatchNorm2d(512, eps=1e-05, momentum=0.1, affine=True, track_running_stats=True)\n",
              "      (relu): ReLU(inplace=True)\n",
              "      (downsample): Sequential(\n",
              "        (0): Conv2d(256, 512, kernel_size=(1, 1), stride=(2, 2), bias=False)\n",
              "        (1): BatchNorm2d(512, eps=1e-05, momentum=0.1, affine=True, track_running_stats=True)\n",
              "      )\n",
              "    )\n",
              "    (1): Bottleneck(\n",
              "      (conv1): Conv2d(512, 128, kernel_size=(1, 1), stride=(1, 1), bias=False)\n",
              "      (bn1): BatchNorm2d(128, eps=1e-05, momentum=0.1, affine=True, track_running_stats=True)\n",
              "      (conv2): Conv2d(128, 128, kernel_size=(3, 3), stride=(1, 1), padding=(1, 1), bias=False)\n",
              "      (bn2): BatchNorm2d(128, eps=1e-05, momentum=0.1, affine=True, track_running_stats=True)\n",
              "      (conv3): Conv2d(128, 512, kernel_size=(1, 1), stride=(1, 1), bias=False)\n",
              "      (bn3): BatchNorm2d(512, eps=1e-05, momentum=0.1, affine=True, track_running_stats=True)\n",
              "      (relu): ReLU(inplace=True)\n",
              "    )\n",
              "    (2): Bottleneck(\n",
              "      (conv1): Conv2d(512, 128, kernel_size=(1, 1), stride=(1, 1), bias=False)\n",
              "      (bn1): BatchNorm2d(128, eps=1e-05, momentum=0.1, affine=True, track_running_stats=True)\n",
              "      (conv2): Conv2d(128, 128, kernel_size=(3, 3), stride=(1, 1), padding=(1, 1), bias=False)\n",
              "      (bn2): BatchNorm2d(128, eps=1e-05, momentum=0.1, affine=True, track_running_stats=True)\n",
              "      (conv3): Conv2d(128, 512, kernel_size=(1, 1), stride=(1, 1), bias=False)\n",
              "      (bn3): BatchNorm2d(512, eps=1e-05, momentum=0.1, affine=True, track_running_stats=True)\n",
              "      (relu): ReLU(inplace=True)\n",
              "    )\n",
              "    (3): Bottleneck(\n",
              "      (conv1): Conv2d(512, 128, kernel_size=(1, 1), stride=(1, 1), bias=False)\n",
              "      (bn1): BatchNorm2d(128, eps=1e-05, momentum=0.1, affine=True, track_running_stats=True)\n",
              "      (conv2): Conv2d(128, 128, kernel_size=(3, 3), stride=(1, 1), padding=(1, 1), bias=False)\n",
              "      (bn2): BatchNorm2d(128, eps=1e-05, momentum=0.1, affine=True, track_running_stats=True)\n",
              "      (conv3): Conv2d(128, 512, kernel_size=(1, 1), stride=(1, 1), bias=False)\n",
              "      (bn3): BatchNorm2d(512, eps=1e-05, momentum=0.1, affine=True, track_running_stats=True)\n",
              "      (relu): ReLU(inplace=True)\n",
              "    )\n",
              "  )\n",
              "  (layer3): Sequential(\n",
              "    (0): Bottleneck(\n",
              "      (conv1): Conv2d(512, 256, kernel_size=(1, 1), stride=(1, 1), bias=False)\n",
              "      (bn1): BatchNorm2d(256, eps=1e-05, momentum=0.1, affine=True, track_running_stats=True)\n",
              "      (conv2): Conv2d(256, 256, kernel_size=(3, 3), stride=(2, 2), padding=(1, 1), bias=False)\n",
              "      (bn2): BatchNorm2d(256, eps=1e-05, momentum=0.1, affine=True, track_running_stats=True)\n",
              "      (conv3): Conv2d(256, 1024, kernel_size=(1, 1), stride=(1, 1), bias=False)\n",
              "      (bn3): BatchNorm2d(1024, eps=1e-05, momentum=0.1, affine=True, track_running_stats=True)\n",
              "      (relu): ReLU(inplace=True)\n",
              "      (downsample): Sequential(\n",
              "        (0): Conv2d(512, 1024, kernel_size=(1, 1), stride=(2, 2), bias=False)\n",
              "        (1): BatchNorm2d(1024, eps=1e-05, momentum=0.1, affine=True, track_running_stats=True)\n",
              "      )\n",
              "    )\n",
              "    (1): Bottleneck(\n",
              "      (conv1): Conv2d(1024, 256, kernel_size=(1, 1), stride=(1, 1), bias=False)\n",
              "      (bn1): BatchNorm2d(256, eps=1e-05, momentum=0.1, affine=True, track_running_stats=True)\n",
              "      (conv2): Conv2d(256, 256, kernel_size=(3, 3), stride=(1, 1), padding=(1, 1), bias=False)\n",
              "      (bn2): BatchNorm2d(256, eps=1e-05, momentum=0.1, affine=True, track_running_stats=True)\n",
              "      (conv3): Conv2d(256, 1024, kernel_size=(1, 1), stride=(1, 1), bias=False)\n",
              "      (bn3): BatchNorm2d(1024, eps=1e-05, momentum=0.1, affine=True, track_running_stats=True)\n",
              "      (relu): ReLU(inplace=True)\n",
              "    )\n",
              "    (2): Bottleneck(\n",
              "      (conv1): Conv2d(1024, 256, kernel_size=(1, 1), stride=(1, 1), bias=False)\n",
              "      (bn1): BatchNorm2d(256, eps=1e-05, momentum=0.1, affine=True, track_running_stats=True)\n",
              "      (conv2): Conv2d(256, 256, kernel_size=(3, 3), stride=(1, 1), padding=(1, 1), bias=False)\n",
              "      (bn2): BatchNorm2d(256, eps=1e-05, momentum=0.1, affine=True, track_running_stats=True)\n",
              "      (conv3): Conv2d(256, 1024, kernel_size=(1, 1), stride=(1, 1), bias=False)\n",
              "      (bn3): BatchNorm2d(1024, eps=1e-05, momentum=0.1, affine=True, track_running_stats=True)\n",
              "      (relu): ReLU(inplace=True)\n",
              "    )\n",
              "    (3): Bottleneck(\n",
              "      (conv1): Conv2d(1024, 256, kernel_size=(1, 1), stride=(1, 1), bias=False)\n",
              "      (bn1): BatchNorm2d(256, eps=1e-05, momentum=0.1, affine=True, track_running_stats=True)\n",
              "      (conv2): Conv2d(256, 256, kernel_size=(3, 3), stride=(1, 1), padding=(1, 1), bias=False)\n",
              "      (bn2): BatchNorm2d(256, eps=1e-05, momentum=0.1, affine=True, track_running_stats=True)\n",
              "      (conv3): Conv2d(256, 1024, kernel_size=(1, 1), stride=(1, 1), bias=False)\n",
              "      (bn3): BatchNorm2d(1024, eps=1e-05, momentum=0.1, affine=True, track_running_stats=True)\n",
              "      (relu): ReLU(inplace=True)\n",
              "    )\n",
              "    (4): Bottleneck(\n",
              "      (conv1): Conv2d(1024, 256, kernel_size=(1, 1), stride=(1, 1), bias=False)\n",
              "      (bn1): BatchNorm2d(256, eps=1e-05, momentum=0.1, affine=True, track_running_stats=True)\n",
              "      (conv2): Conv2d(256, 256, kernel_size=(3, 3), stride=(1, 1), padding=(1, 1), bias=False)\n",
              "      (bn2): BatchNorm2d(256, eps=1e-05, momentum=0.1, affine=True, track_running_stats=True)\n",
              "      (conv3): Conv2d(256, 1024, kernel_size=(1, 1), stride=(1, 1), bias=False)\n",
              "      (bn3): BatchNorm2d(1024, eps=1e-05, momentum=0.1, affine=True, track_running_stats=True)\n",
              "      (relu): ReLU(inplace=True)\n",
              "    )\n",
              "    (5): Bottleneck(\n",
              "      (conv1): Conv2d(1024, 256, kernel_size=(1, 1), stride=(1, 1), bias=False)\n",
              "      (bn1): BatchNorm2d(256, eps=1e-05, momentum=0.1, affine=True, track_running_stats=True)\n",
              "      (conv2): Conv2d(256, 256, kernel_size=(3, 3), stride=(1, 1), padding=(1, 1), bias=False)\n",
              "      (bn2): BatchNorm2d(256, eps=1e-05, momentum=0.1, affine=True, track_running_stats=True)\n",
              "      (conv3): Conv2d(256, 1024, kernel_size=(1, 1), stride=(1, 1), bias=False)\n",
              "      (bn3): BatchNorm2d(1024, eps=1e-05, momentum=0.1, affine=True, track_running_stats=True)\n",
              "      (relu): ReLU(inplace=True)\n",
              "    )\n",
              "  )\n",
              "  (layer4): Sequential(\n",
              "    (0): Bottleneck(\n",
              "      (conv1): Conv2d(1024, 512, kernel_size=(1, 1), stride=(1, 1), bias=False)\n",
              "      (bn1): BatchNorm2d(512, eps=1e-05, momentum=0.1, affine=True, track_running_stats=True)\n",
              "      (conv2): Conv2d(512, 512, kernel_size=(3, 3), stride=(2, 2), padding=(1, 1), bias=False)\n",
              "      (bn2): BatchNorm2d(512, eps=1e-05, momentum=0.1, affine=True, track_running_stats=True)\n",
              "      (conv3): Conv2d(512, 2048, kernel_size=(1, 1), stride=(1, 1), bias=False)\n",
              "      (bn3): BatchNorm2d(2048, eps=1e-05, momentum=0.1, affine=True, track_running_stats=True)\n",
              "      (relu): ReLU(inplace=True)\n",
              "      (downsample): Sequential(\n",
              "        (0): Conv2d(1024, 2048, kernel_size=(1, 1), stride=(2, 2), bias=False)\n",
              "        (1): BatchNorm2d(2048, eps=1e-05, momentum=0.1, affine=True, track_running_stats=True)\n",
              "      )\n",
              "    )\n",
              "    (1): Bottleneck(\n",
              "      (conv1): Conv2d(2048, 512, kernel_size=(1, 1), stride=(1, 1), bias=False)\n",
              "      (bn1): BatchNorm2d(512, eps=1e-05, momentum=0.1, affine=True, track_running_stats=True)\n",
              "      (conv2): Conv2d(512, 512, kernel_size=(3, 3), stride=(1, 1), padding=(1, 1), bias=False)\n",
              "      (bn2): BatchNorm2d(512, eps=1e-05, momentum=0.1, affine=True, track_running_stats=True)\n",
              "      (conv3): Conv2d(512, 2048, kernel_size=(1, 1), stride=(1, 1), bias=False)\n",
              "      (bn3): BatchNorm2d(2048, eps=1e-05, momentum=0.1, affine=True, track_running_stats=True)\n",
              "      (relu): ReLU(inplace=True)\n",
              "    )\n",
              "    (2): Bottleneck(\n",
              "      (conv1): Conv2d(2048, 512, kernel_size=(1, 1), stride=(1, 1), bias=False)\n",
              "      (bn1): BatchNorm2d(512, eps=1e-05, momentum=0.1, affine=True, track_running_stats=True)\n",
              "      (conv2): Conv2d(512, 512, kernel_size=(3, 3), stride=(1, 1), padding=(1, 1), bias=False)\n",
              "      (bn2): BatchNorm2d(512, eps=1e-05, momentum=0.1, affine=True, track_running_stats=True)\n",
              "      (conv3): Conv2d(512, 2048, kernel_size=(1, 1), stride=(1, 1), bias=False)\n",
              "      (bn3): BatchNorm2d(2048, eps=1e-05, momentum=0.1, affine=True, track_running_stats=True)\n",
              "      (relu): ReLU(inplace=True)\n",
              "    )\n",
              "  )\n",
              "  (avgpool): AdaptiveAvgPool2d(output_size=(1, 1))\n",
              "  (fc): Linear(in_features=2048, out_features=128, bias=True)\n",
              ")"
            ]
          },
          "metadata": {
            "tags": []
          },
          "execution_count": 2
        }
      ]
    },
    {
      "cell_type": "code",
      "metadata": {
        "id": "h5GN6CbpQRKW"
      },
      "source": [
        "class Config():\n",
        "    training_dir = \"/content/IKT450/0_8/train/\"\n",
        "    testing_dir = \"/content/IKT450/0_8/test/\"\n",
        "    training_dir_body = \"/content/IKT450/0_8_body/train/\"\n",
        "    testing_dir_body = \"/content/IKT450/0_8_body/test/\"\n",
        "    train_batch_size = 3\n",
        "    train_number_epochs = 100"
      ],
      "execution_count": 3,
      "outputs": []
    },
    {
      "cell_type": "code",
      "metadata": {
        "id": "UjcN6_4wQhEl"
      },
      "source": [
        "class SiameseNetworkDataset(Dataset):\n",
        "\n",
        "    def __init__(self, imageFolderDataset, single_img=False, percent_same=None, transform=None, fixed=False):\n",
        "        self.imageFolderDataset = imageFolderDataset\n",
        "        self.transform = transform\n",
        "        self.percent_same = percent_same\n",
        "        self.single_img = single_img\n",
        "        self.fixed = fixed\n",
        "        print(self.percent_same)\n",
        "\n",
        "        n_imgs = len(self)\n",
        "        self.test_order = list(range(n_imgs))\n",
        "        random.shuffle(self.test_order)\n",
        "\n",
        "    def __getitem__(self, index):\n",
        "        if self.single_img:\n",
        "            return self.imageFolderDataset.imgs[index]\n",
        "        else:\n",
        "            # img0_tuple = random.choice(self.imageFolderDataset.imgs)\n",
        "            img0_tuple = self.imageFolderDataset.imgs[index]\n",
        "            if self.fixed:\n",
        "                img1_tuple = self.imageFolderDataset.imgs[self.test_order[index]]\n",
        "                img0 = Image.open(img0_tuple[0])\n",
        "                img1 = Image.open(img1_tuple[0])\n",
        "\n",
        "                if self.transform is not None:\n",
        "                    img0 = self.transform(img0)\n",
        "                    img1 = self.transform(img1)\n",
        "\n",
        "                return img0, img1, img0_tuple, img1_tuple, torch.from_numpy(\n",
        "                    np.array([int(img1_tuple[1] != img0_tuple[1])], dtype=np.float32))\n",
        "\n",
        "            # we need to make sure approx 50% of images are in the same class\n",
        "            if self.percent_same != None:\n",
        "                should_get_same_class = self.percent_same\n",
        "            else:\n",
        "\n",
        "                should_get_same_class = random.randint(0, 1)\n",
        "\n",
        "            if should_get_same_class:\n",
        "                while True:\n",
        "                    # keep looping till the same class image is found\n",
        "                    img1_tuple = random.choice(self.imageFolderDataset.imgs)\n",
        "                    if img0_tuple[1] == img1_tuple[1]:\n",
        "                        break\n",
        "            else:\n",
        "                while True:\n",
        "                    # keep looping till a different class image is found\n",
        "\n",
        "                    img1_tuple = random.choice(self.imageFolderDataset.imgs)\n",
        "                    if img0_tuple[1] != img1_tuple[1]:\n",
        "                        break\n",
        "\n",
        "            img0 = Image.open(img0_tuple[0])\n",
        "            img1 = Image.open(img1_tuple[0])\n",
        "\n",
        "            if self.transform is not None:\n",
        "                img0 = self.transform(img0)\n",
        "                img1 = self.transform(img1)\n",
        "\n",
        "            return img0, img1, img0_tuple, img1_tuple, torch.from_numpy(\n",
        "                np.array([int(img1_tuple[1] != img0_tuple[1])], dtype=np.float32))\n",
        "\n",
        "    def __len__(self):\n",
        "        return len(self.imageFolderDataset.imgs)\n"
      ],
      "execution_count": 4,
      "outputs": []
    },
    {
      "cell_type": "code",
      "metadata": {
        "id": "VArE8BPTRNxQ"
      },
      "source": [
        "preprocess = transforms.Compose([\n",
        "    \n",
        "    transforms.Resize(256),\n",
        "    transforms.CenterCrop(224),\n",
        "    transforms.RandomHorizontalFlip(),\n",
        "    transforms.ToTensor(),\n",
        "    transforms.Normalize(mean=[0.485, 0.456, 0.406], std=[0.229, 0.224, 0.225]),\n",
        "])"
      ],
      "execution_count": 5,
      "outputs": []
    },
    {
      "cell_type": "code",
      "metadata": {
        "id": "huWwqj4bSOxm"
      },
      "source": [
        "folder_dataset_train = dset.ImageFolder(root=Config.training_dir)\n",
        "folder_dataset_test = dset.ImageFolder(root=Config.testing_dir)"
      ],
      "execution_count": 6,
      "outputs": []
    },
    {
      "cell_type": "code",
      "metadata": {
        "colab": {
          "base_uri": "https://localhost:8080/"
        },
        "id": "5wzkLSMfSWcu",
        "outputId": "f3b8c6a7-6399-4a5e-dbcb-4c63a6d8b920"
      },
      "source": [
        "siamese_dataset_train = SiameseNetworkDataset(imageFolderDataset=folder_dataset_train,\n",
        "                                        transform=preprocess)\n",
        "siamese_dataset_test = SiameseNetworkDataset(imageFolderDataset=folder_dataset_test,\n",
        "                                        transform=preprocess)"
      ],
      "execution_count": 7,
      "outputs": [
        {
          "output_type": "stream",
          "text": [
            "None\n",
            "None\n"
          ],
          "name": "stdout"
        }
      ]
    },
    {
      "cell_type": "code",
      "metadata": {
        "id": "OavwGsiySiHA"
      },
      "source": [
        "train_dataloader = DataLoader(siamese_dataset_train,\n",
        "                        shuffle=True,\n",
        "                        num_workers=8,\n",
        "                        batch_size=Config.train_batch_size)\n",
        "\n",
        "test_dataloader = DataLoader(siamese_dataset_test,\n",
        "                        shuffle=True,\n",
        "                        num_workers=8,\n",
        "                        batch_size=Config.train_batch_size)\n",
        "\n"
      ],
      "execution_count": 8,
      "outputs": []
    },
    {
      "cell_type": "code",
      "metadata": {
        "id": "q_QCVzPRS1Af"
      },
      "source": [
        "class ContrastiveLoss(torch.nn.Module):\n",
        "    \"\"\"\n",
        "    Contrastive loss function.\n",
        "    Based on: http://yann.lecun.com/exdb/publis/pdf/hadsell-chopra-lecun-06.pdf\n",
        "    \"\"\"\n",
        "\n",
        "    def __init__(self, margin=2.0):\n",
        "        super(ContrastiveLoss, self).__init__()\n",
        "        self.margin = margin\n",
        "\n",
        "    def forward(self, output1, output2, label):\n",
        "        euclidean_distance = F.pairwise_distance(output1, output2, keepdim = True)\n",
        "        # d = euclidean_distance.detach().numpy()\n",
        "        # if (d < 0).sum() > 0:\n",
        "          # print(\"Got euclidean distance: \", d)\n",
        "        loss_contrastive = torch.mean((1-label) * torch.pow(euclidean_distance, 2) +\n",
        "                                      (label) * torch.pow(torch.clamp(self.margin - euclidean_distance, min=0.0), 2))\n",
        "\n",
        "\n",
        "        return loss_contrastive"
      ],
      "execution_count": 9,
      "outputs": []
    },
    {
      "cell_type": "code",
      "metadata": {
        "colab": {
          "base_uri": "https://localhost:8080/"
        },
        "id": "hFfSa42dSwbY",
        "outputId": "6a996c3c-7e02-41d5-bef2-a696d03419f5"
      },
      "source": [
        "import tqdm\n",
        "criterion = ContrastiveLoss()\n",
        "optimizer = optim.Adam(model.parameters(),lr = 0.0005 )\n",
        "model_save_name = 'res_50_88.pt' \n",
        "path = F\"/content/gdrive/My Drive/{model_save_name}\"\n",
        "model.load_state_dict(torch.load(path))\n",
        "model.train()\n",
        "model.cuda()\n",
        "best_loss = 1e10\n",
        "for epoch in range(100):\n",
        "    model.train()\n",
        "    for batch in tqdm.tqdm(train_dataloader):\n",
        "        img0, img1,  img0_info, img1_info, label = batch\n",
        "        enc0 = model(img0.cuda())\n",
        "        enc1 = model(img1.cuda())\n",
        "        loss = criterion(enc0, enc1, label.cuda())\n",
        "        optimizer.zero_grad()\n",
        "        loss.backward()\n",
        "        optimizer.step()\n",
        "  \n",
        "    model.eval()\n",
        "    total_loss = 0\n",
        "    for i, data in enumerate(test_dataloader,0):\n",
        "        with torch.no_grad():\n",
        "            img0, img1 , img0_info, img1_info, label = data\n",
        "            enc0 = model(img0.cuda())\n",
        "            enc1 = model(img1.cuda())\n",
        "            loss = criterion(enc0, enc1, label.cuda())\n",
        "            total_loss += loss.item()\n",
        "    if total_loss < best_loss:\n",
        "        best_loss = total_loss\n",
        "        print(\"saving model: \", epoch)\n",
        "        print(\"best loss: \", best_loss)\n",
        "        model_save_name = 'res_50_100+{}.pt'.format(epoch)\n",
        "        path = F\"/content/gdrive/MyDrive/{model_save_name}\" \n",
        "        torch.save(model.state_dict(), path)\n",
        "    elif epoch % 5 == 0:\n",
        "        print(\"Saving model as epoch is: \", epoch)\n",
        "        model_save_name = 'res_50_100+{}.pt'.format(epoch)\n",
        "        path = F\"/content/gdrive/MyDrive/{model_save_name}\" \n",
        "        torch.save(model.state_dict(), path)\n",
        "    print(total_loss)\n",
        "  \n",
        "  \n",
        "\n",
        "print(\"training done!\")\n"
      ],
      "execution_count": 10,
      "outputs": [
        {
          "output_type": "stream",
          "text": [
            "100%|██████████| 564/564 [00:58<00:00,  9.68it/s]\n"
          ],
          "name": "stderr"
        },
        {
          "output_type": "stream",
          "text": [
            "saving model:  0\n",
            "best loss:  84.24524112812156\n"
          ],
          "name": "stdout"
        },
        {
          "output_type": "stream",
          "text": [
            "\r  0%|          | 0/564 [00:00<?, ?it/s]"
          ],
          "name": "stderr"
        },
        {
          "output_type": "stream",
          "text": [
            "84.24524112812156\n"
          ],
          "name": "stdout"
        },
        {
          "output_type": "stream",
          "text": [
            "100%|██████████| 564/564 [00:58<00:00,  9.63it/s]\n"
          ],
          "name": "stderr"
        },
        {
          "output_type": "stream",
          "text": [
            "saving model:  1\n",
            "best loss:  73.13470714678988\n"
          ],
          "name": "stdout"
        },
        {
          "output_type": "stream",
          "text": [
            "\r  0%|          | 0/564 [00:00<?, ?it/s]"
          ],
          "name": "stderr"
        },
        {
          "output_type": "stream",
          "text": [
            "73.13470714678988\n"
          ],
          "name": "stdout"
        },
        {
          "output_type": "stream",
          "text": [
            "100%|██████████| 564/564 [00:58<00:00,  9.71it/s]\n",
            "  0%|          | 0/564 [00:00<?, ?it/s]"
          ],
          "name": "stderr"
        },
        {
          "output_type": "stream",
          "text": [
            "78.04604087774251\n"
          ],
          "name": "stdout"
        },
        {
          "output_type": "stream",
          "text": [
            "100%|██████████| 564/564 [00:57<00:00,  9.79it/s]\n",
            "  0%|          | 0/564 [00:00<?, ?it/s]"
          ],
          "name": "stderr"
        },
        {
          "output_type": "stream",
          "text": [
            "88.89615644146298\n"
          ],
          "name": "stdout"
        },
        {
          "output_type": "stream",
          "text": [
            "100%|██████████| 564/564 [00:57<00:00,  9.77it/s]\n",
            "  0%|          | 0/564 [00:00<?, ?it/s]"
          ],
          "name": "stderr"
        },
        {
          "output_type": "stream",
          "text": [
            "77.70568365328555\n"
          ],
          "name": "stdout"
        },
        {
          "output_type": "stream",
          "text": [
            "100%|██████████| 564/564 [00:57<00:00,  9.76it/s]\n"
          ],
          "name": "stderr"
        },
        {
          "output_type": "stream",
          "text": [
            "saving model:  5\n",
            "best loss:  68.63972540949081\n"
          ],
          "name": "stdout"
        },
        {
          "output_type": "stream",
          "text": [
            "\r  0%|          | 0/564 [00:00<?, ?it/s]"
          ],
          "name": "stderr"
        },
        {
          "output_type": "stream",
          "text": [
            "68.63972540949081\n"
          ],
          "name": "stdout"
        },
        {
          "output_type": "stream",
          "text": [
            "100%|██████████| 564/564 [00:57<00:00,  9.77it/s]\n",
            "  0%|          | 0/564 [00:00<?, ?it/s]"
          ],
          "name": "stderr"
        },
        {
          "output_type": "stream",
          "text": [
            "86.65213635028043\n"
          ],
          "name": "stdout"
        },
        {
          "output_type": "stream",
          "text": [
            "100%|██████████| 564/564 [00:58<00:00,  9.65it/s]\n"
          ],
          "name": "stderr"
        },
        {
          "output_type": "stream",
          "text": [
            "saving model:  7\n",
            "best loss:  63.651953970144625\n"
          ],
          "name": "stdout"
        },
        {
          "output_type": "stream",
          "text": [
            "\r  0%|          | 0/564 [00:00<?, ?it/s]"
          ],
          "name": "stderr"
        },
        {
          "output_type": "stream",
          "text": [
            "63.651953970144625\n"
          ],
          "name": "stdout"
        },
        {
          "output_type": "stream",
          "text": [
            "100%|██████████| 564/564 [00:58<00:00,  9.71it/s]\n",
            "  0%|          | 0/564 [00:00<?, ?it/s]"
          ],
          "name": "stderr"
        },
        {
          "output_type": "stream",
          "text": [
            "83.24832373283955\n"
          ],
          "name": "stdout"
        },
        {
          "output_type": "stream",
          "text": [
            "100%|██████████| 564/564 [00:57<00:00,  9.80it/s]\n",
            "  0%|          | 0/564 [00:00<?, ?it/s]"
          ],
          "name": "stderr"
        },
        {
          "output_type": "stream",
          "text": [
            "77.97855984978378\n"
          ],
          "name": "stdout"
        },
        {
          "output_type": "stream",
          "text": [
            "100%|██████████| 564/564 [00:57<00:00,  9.73it/s]\n"
          ],
          "name": "stderr"
        },
        {
          "output_type": "stream",
          "text": [
            "Saving model as epoch is:  10\n"
          ],
          "name": "stdout"
        },
        {
          "output_type": "stream",
          "text": [
            "\r  0%|          | 0/564 [00:00<?, ?it/s]"
          ],
          "name": "stderr"
        },
        {
          "output_type": "stream",
          "text": [
            "80.87654196249787\n"
          ],
          "name": "stdout"
        },
        {
          "output_type": "stream",
          "text": [
            "100%|██████████| 564/564 [00:58<00:00,  9.71it/s]\n",
            "  0%|          | 0/564 [00:00<?, ?it/s]"
          ],
          "name": "stderr"
        },
        {
          "output_type": "stream",
          "text": [
            "75.51010804348235\n"
          ],
          "name": "stdout"
        },
        {
          "output_type": "stream",
          "text": [
            "100%|██████████| 564/564 [00:58<00:00,  9.67it/s]\n",
            "  0%|          | 0/564 [00:00<?, ?it/s]"
          ],
          "name": "stderr"
        },
        {
          "output_type": "stream",
          "text": [
            "78.57351384515246\n"
          ],
          "name": "stdout"
        },
        {
          "output_type": "stream",
          "text": [
            "100%|██████████| 564/564 [00:58<00:00,  9.69it/s]\n",
            "  0%|          | 0/564 [00:00<?, ?it/s]"
          ],
          "name": "stderr"
        },
        {
          "output_type": "stream",
          "text": [
            "76.54756150764099\n"
          ],
          "name": "stdout"
        },
        {
          "output_type": "stream",
          "text": [
            "100%|██████████| 564/564 [00:57<00:00,  9.75it/s]\n",
            "  0%|          | 0/564 [00:00<?, ?it/s]"
          ],
          "name": "stderr"
        },
        {
          "output_type": "stream",
          "text": [
            "71.23472344464409\n"
          ],
          "name": "stdout"
        },
        {
          "output_type": "stream",
          "text": [
            "100%|██████████| 564/564 [00:57<00:00,  9.76it/s]\n"
          ],
          "name": "stderr"
        },
        {
          "output_type": "stream",
          "text": [
            "Saving model as epoch is:  15\n"
          ],
          "name": "stdout"
        },
        {
          "output_type": "stream",
          "text": [
            "\r  0%|          | 0/564 [00:00<?, ?it/s]"
          ],
          "name": "stderr"
        },
        {
          "output_type": "stream",
          "text": [
            "83.63740442411888\n"
          ],
          "name": "stdout"
        },
        {
          "output_type": "stream",
          "text": [
            "100%|██████████| 564/564 [00:58<00:00,  9.69it/s]\n",
            "  0%|          | 0/564 [00:00<?, ?it/s]"
          ],
          "name": "stderr"
        },
        {
          "output_type": "stream",
          "text": [
            "78.28322114412435\n"
          ],
          "name": "stdout"
        },
        {
          "output_type": "stream",
          "text": [
            "100%|██████████| 564/564 [00:58<00:00,  9.72it/s]\n",
            "  0%|          | 0/564 [00:00<?, ?it/s]"
          ],
          "name": "stderr"
        },
        {
          "output_type": "stream",
          "text": [
            "88.47978825414314\n"
          ],
          "name": "stdout"
        },
        {
          "output_type": "stream",
          "text": [
            "100%|██████████| 564/564 [00:57<00:00,  9.73it/s]\n",
            "  0%|          | 0/564 [00:00<?, ?it/s]"
          ],
          "name": "stderr"
        },
        {
          "output_type": "stream",
          "text": [
            "83.5948042256175\n"
          ],
          "name": "stdout"
        },
        {
          "output_type": "stream",
          "text": [
            "100%|██████████| 564/564 [00:58<00:00,  9.60it/s]\n",
            "  0%|          | 0/564 [00:00<?, ?it/s]"
          ],
          "name": "stderr"
        },
        {
          "output_type": "stream",
          "text": [
            "79.87529754799704\n"
          ],
          "name": "stdout"
        },
        {
          "output_type": "stream",
          "text": [
            "100%|██████████| 564/564 [00:58<00:00,  9.65it/s]\n"
          ],
          "name": "stderr"
        },
        {
          "output_type": "stream",
          "text": [
            "Saving model as epoch is:  20\n"
          ],
          "name": "stdout"
        },
        {
          "output_type": "stream",
          "text": [
            "\r  0%|          | 0/564 [00:00<?, ?it/s]"
          ],
          "name": "stderr"
        },
        {
          "output_type": "stream",
          "text": [
            "89.0538966023285\n"
          ],
          "name": "stdout"
        },
        {
          "output_type": "stream",
          "text": [
            "100%|██████████| 564/564 [00:58<00:00,  9.66it/s]\n",
            "  0%|          | 0/564 [00:00<?, ?it/s]"
          ],
          "name": "stderr"
        },
        {
          "output_type": "stream",
          "text": [
            "80.28388558595907\n"
          ],
          "name": "stdout"
        },
        {
          "output_type": "stream",
          "text": [
            "100%|██████████| 564/564 [00:57<00:00,  9.76it/s]\n",
            "  0%|          | 0/564 [00:00<?, ?it/s]"
          ],
          "name": "stderr"
        },
        {
          "output_type": "stream",
          "text": [
            "86.73456842409988\n"
          ],
          "name": "stdout"
        },
        {
          "output_type": "stream",
          "text": [
            "100%|██████████| 564/564 [00:58<00:00,  9.71it/s]\n",
            "  0%|          | 0/564 [00:00<?, ?it/s]"
          ],
          "name": "stderr"
        },
        {
          "output_type": "stream",
          "text": [
            "83.36479709403352\n"
          ],
          "name": "stdout"
        },
        {
          "output_type": "stream",
          "text": [
            "100%|██████████| 564/564 [00:58<00:00,  9.68it/s]\n",
            "  0%|          | 0/564 [00:00<?, ?it/s]"
          ],
          "name": "stderr"
        },
        {
          "output_type": "stream",
          "text": [
            "78.08328279011569\n"
          ],
          "name": "stdout"
        },
        {
          "output_type": "stream",
          "text": [
            "100%|██████████| 564/564 [00:58<00:00,  9.72it/s]\n"
          ],
          "name": "stderr"
        },
        {
          "output_type": "stream",
          "text": [
            "Saving model as epoch is:  25\n"
          ],
          "name": "stdout"
        },
        {
          "output_type": "stream",
          "text": [
            "\r  0%|          | 0/564 [00:00<?, ?it/s]"
          ],
          "name": "stderr"
        },
        {
          "output_type": "stream",
          "text": [
            "70.82757864570786\n"
          ],
          "name": "stdout"
        },
        {
          "output_type": "stream",
          "text": [
            "100%|██████████| 564/564 [00:58<00:00,  9.63it/s]\n",
            "  0%|          | 0/564 [00:00<?, ?it/s]"
          ],
          "name": "stderr"
        },
        {
          "output_type": "stream",
          "text": [
            "79.24111158529989\n"
          ],
          "name": "stdout"
        },
        {
          "output_type": "stream",
          "text": [
            "100%|██████████| 564/564 [00:58<00:00,  9.69it/s]\n",
            "  0%|          | 0/564 [00:00<?, ?it/s]"
          ],
          "name": "stderr"
        },
        {
          "output_type": "stream",
          "text": [
            "77.0870475070551\n"
          ],
          "name": "stdout"
        },
        {
          "output_type": "stream",
          "text": [
            "100%|██████████| 564/564 [00:58<00:00,  9.60it/s]\n",
            "  0%|          | 0/564 [00:00<?, ?it/s]"
          ],
          "name": "stderr"
        },
        {
          "output_type": "stream",
          "text": [
            "71.64967420328949\n"
          ],
          "name": "stdout"
        },
        {
          "output_type": "stream",
          "text": [
            "100%|██████████| 564/564 [00:58<00:00,  9.69it/s]\n",
            "  0%|          | 0/564 [00:00<?, ?it/s]"
          ],
          "name": "stderr"
        },
        {
          "output_type": "stream",
          "text": [
            "77.47956646771625\n"
          ],
          "name": "stdout"
        },
        {
          "output_type": "stream",
          "text": [
            "100%|██████████| 564/564 [00:58<00:00,  9.69it/s]\n"
          ],
          "name": "stderr"
        },
        {
          "output_type": "stream",
          "text": [
            "Saving model as epoch is:  30\n"
          ],
          "name": "stdout"
        },
        {
          "output_type": "stream",
          "text": [
            "\r  0%|          | 0/564 [00:00<?, ?it/s]"
          ],
          "name": "stderr"
        },
        {
          "output_type": "stream",
          "text": [
            "79.21063917968422\n"
          ],
          "name": "stdout"
        },
        {
          "output_type": "stream",
          "text": [
            "100%|██████████| 564/564 [00:58<00:00,  9.67it/s]\n",
            "  0%|          | 0/564 [00:00<?, ?it/s]"
          ],
          "name": "stderr"
        },
        {
          "output_type": "stream",
          "text": [
            "77.57954055350274\n"
          ],
          "name": "stdout"
        },
        {
          "output_type": "stream",
          "text": [
            "100%|██████████| 564/564 [00:57<00:00,  9.74it/s]\n",
            "  0%|          | 0/564 [00:00<?, ?it/s]"
          ],
          "name": "stderr"
        },
        {
          "output_type": "stream",
          "text": [
            "83.67910174242373\n"
          ],
          "name": "stdout"
        },
        {
          "output_type": "stream",
          "text": [
            "100%|██████████| 564/564 [00:57<00:00,  9.80it/s]\n",
            "  0%|          | 0/564 [00:00<?, ?it/s]"
          ],
          "name": "stderr"
        },
        {
          "output_type": "stream",
          "text": [
            "78.39925314625725\n"
          ],
          "name": "stdout"
        },
        {
          "output_type": "stream",
          "text": [
            "100%|██████████| 564/564 [00:57<00:00,  9.81it/s]\n",
            "  0%|          | 0/564 [00:00<?, ?it/s]"
          ],
          "name": "stderr"
        },
        {
          "output_type": "stream",
          "text": [
            "77.84355229249527\n"
          ],
          "name": "stdout"
        },
        {
          "output_type": "stream",
          "text": [
            "100%|██████████| 564/564 [00:57<00:00,  9.76it/s]\n"
          ],
          "name": "stderr"
        },
        {
          "output_type": "stream",
          "text": [
            "Saving model as epoch is:  35\n"
          ],
          "name": "stdout"
        },
        {
          "output_type": "stream",
          "text": [
            "\r  0%|          | 0/564 [00:00<?, ?it/s]"
          ],
          "name": "stderr"
        },
        {
          "output_type": "stream",
          "text": [
            "71.23301642144793\n"
          ],
          "name": "stdout"
        },
        {
          "output_type": "stream",
          "text": [
            "100%|██████████| 564/564 [00:58<00:00,  9.67it/s]\n",
            "  0%|          | 0/564 [00:00<?, ?it/s]"
          ],
          "name": "stderr"
        },
        {
          "output_type": "stream",
          "text": [
            "75.79785237190465\n"
          ],
          "name": "stdout"
        },
        {
          "output_type": "stream",
          "text": [
            "100%|██████████| 564/564 [00:58<00:00,  9.72it/s]\n",
            "  0%|          | 0/564 [00:00<?, ?it/s]"
          ],
          "name": "stderr"
        },
        {
          "output_type": "stream",
          "text": [
            "69.3049811386154\n"
          ],
          "name": "stdout"
        },
        {
          "output_type": "stream",
          "text": [
            "100%|██████████| 564/564 [00:57<00:00,  9.75it/s]\n",
            "  0%|          | 0/564 [00:00<?, ?it/s]"
          ],
          "name": "stderr"
        },
        {
          "output_type": "stream",
          "text": [
            "75.99053495560459\n"
          ],
          "name": "stdout"
        },
        {
          "output_type": "stream",
          "text": [
            "100%|██████████| 564/564 [00:57<00:00,  9.75it/s]\n",
            "  0%|          | 0/564 [00:00<?, ?it/s]"
          ],
          "name": "stderr"
        },
        {
          "output_type": "stream",
          "text": [
            "70.43780383368326\n"
          ],
          "name": "stdout"
        },
        {
          "output_type": "stream",
          "text": [
            "100%|██████████| 564/564 [00:58<00:00,  9.70it/s]\n"
          ],
          "name": "stderr"
        },
        {
          "output_type": "stream",
          "text": [
            "Saving model as epoch is:  40\n"
          ],
          "name": "stdout"
        },
        {
          "output_type": "stream",
          "text": [
            "\r  0%|          | 0/564 [00:00<?, ?it/s]"
          ],
          "name": "stderr"
        },
        {
          "output_type": "stream",
          "text": [
            "77.12550316875952\n"
          ],
          "name": "stdout"
        },
        {
          "output_type": "stream",
          "text": [
            "100%|██████████| 564/564 [00:58<00:00,  9.68it/s]\n",
            "  0%|          | 0/564 [00:00<?, ?it/s]"
          ],
          "name": "stderr"
        },
        {
          "output_type": "stream",
          "text": [
            "81.70343118952587\n"
          ],
          "name": "stdout"
        },
        {
          "output_type": "stream",
          "text": [
            "100%|██████████| 564/564 [00:57<00:00,  9.74it/s]\n",
            "  0%|          | 0/564 [00:00<?, ?it/s]"
          ],
          "name": "stderr"
        },
        {
          "output_type": "stream",
          "text": [
            "85.16699493703973\n"
          ],
          "name": "stdout"
        },
        {
          "output_type": "stream",
          "text": [
            "100%|██████████| 564/564 [00:58<00:00,  9.71it/s]\n",
            "  0%|          | 0/564 [00:00<?, ?it/s]"
          ],
          "name": "stderr"
        },
        {
          "output_type": "stream",
          "text": [
            "71.81348448589748\n"
          ],
          "name": "stdout"
        },
        {
          "output_type": "stream",
          "text": [
            "100%|██████████| 564/564 [00:57<00:00,  9.75it/s]\n",
            "  0%|          | 0/564 [00:00<?, ?it/s]"
          ],
          "name": "stderr"
        },
        {
          "output_type": "stream",
          "text": [
            "69.55161268578377\n"
          ],
          "name": "stdout"
        },
        {
          "output_type": "stream",
          "text": [
            "100%|██████████| 564/564 [00:57<00:00,  9.75it/s]\n"
          ],
          "name": "stderr"
        },
        {
          "output_type": "stream",
          "text": [
            "Saving model as epoch is:  45\n"
          ],
          "name": "stdout"
        },
        {
          "output_type": "stream",
          "text": [
            "\r  0%|          | 0/564 [00:00<?, ?it/s]"
          ],
          "name": "stderr"
        },
        {
          "output_type": "stream",
          "text": [
            "77.90370085882023\n"
          ],
          "name": "stdout"
        },
        {
          "output_type": "stream",
          "text": [
            "100%|██████████| 564/564 [00:58<00:00,  9.72it/s]\n",
            "  0%|          | 0/564 [00:00<?, ?it/s]"
          ],
          "name": "stderr"
        },
        {
          "output_type": "stream",
          "text": [
            "69.8850186065227\n"
          ],
          "name": "stdout"
        },
        {
          "output_type": "stream",
          "text": [
            "100%|██████████| 564/564 [00:57<00:00,  9.75it/s]\n",
            "  0%|          | 0/564 [00:00<?, ?it/s]"
          ],
          "name": "stderr"
        },
        {
          "output_type": "stream",
          "text": [
            "75.74713652678375\n"
          ],
          "name": "stdout"
        },
        {
          "output_type": "stream",
          "text": [
            "100%|██████████| 564/564 [00:57<00:00,  9.78it/s]\n",
            "  0%|          | 0/564 [00:00<?, ?it/s]"
          ],
          "name": "stderr"
        },
        {
          "output_type": "stream",
          "text": [
            "82.53423414155061\n"
          ],
          "name": "stdout"
        },
        {
          "output_type": "stream",
          "text": [
            "100%|██████████| 564/564 [00:58<00:00,  9.62it/s]\n",
            "  0%|          | 0/564 [00:00<?, ?it/s]"
          ],
          "name": "stderr"
        },
        {
          "output_type": "stream",
          "text": [
            "72.62725402094094\n"
          ],
          "name": "stdout"
        },
        {
          "output_type": "stream",
          "text": [
            "100%|██████████| 564/564 [00:57<00:00,  9.80it/s]\n"
          ],
          "name": "stderr"
        },
        {
          "output_type": "stream",
          "text": [
            "Saving model as epoch is:  50\n"
          ],
          "name": "stdout"
        },
        {
          "output_type": "stream",
          "text": [
            "\r  0%|          | 0/564 [00:00<?, ?it/s]"
          ],
          "name": "stderr"
        },
        {
          "output_type": "stream",
          "text": [
            "84.19488202975282\n"
          ],
          "name": "stdout"
        },
        {
          "output_type": "stream",
          "text": [
            "100%|██████████| 564/564 [00:58<00:00,  9.70it/s]\n",
            "  0%|          | 0/564 [00:00<?, ?it/s]"
          ],
          "name": "stderr"
        },
        {
          "output_type": "stream",
          "text": [
            "86.20138459013538\n"
          ],
          "name": "stdout"
        },
        {
          "output_type": "stream",
          "text": [
            "100%|██████████| 564/564 [00:57<00:00,  9.79it/s]\n",
            "  0%|          | 0/564 [00:00<?, ?it/s]"
          ],
          "name": "stderr"
        },
        {
          "output_type": "stream",
          "text": [
            "79.72167221279034\n"
          ],
          "name": "stdout"
        },
        {
          "output_type": "stream",
          "text": [
            "100%|██████████| 564/564 [00:57<00:00,  9.81it/s]\n",
            "  0%|          | 0/564 [00:00<?, ?it/s]"
          ],
          "name": "stderr"
        },
        {
          "output_type": "stream",
          "text": [
            "71.33758049811777\n"
          ],
          "name": "stdout"
        },
        {
          "output_type": "stream",
          "text": [
            "100%|██████████| 564/564 [00:58<00:00,  9.72it/s]\n",
            "  0%|          | 0/564 [00:00<?, ?it/s]"
          ],
          "name": "stderr"
        },
        {
          "output_type": "stream",
          "text": [
            "77.35975117404388\n"
          ],
          "name": "stdout"
        },
        {
          "output_type": "stream",
          "text": [
            "100%|██████████| 564/564 [00:57<00:00,  9.74it/s]\n"
          ],
          "name": "stderr"
        },
        {
          "output_type": "stream",
          "text": [
            "Saving model as epoch is:  55\n"
          ],
          "name": "stdout"
        },
        {
          "output_type": "stream",
          "text": [
            "\r  0%|          | 0/564 [00:00<?, ?it/s]"
          ],
          "name": "stderr"
        },
        {
          "output_type": "stream",
          "text": [
            "78.38150638437352\n"
          ],
          "name": "stdout"
        },
        {
          "output_type": "stream",
          "text": [
            "100%|██████████| 564/564 [00:58<00:00,  9.72it/s]\n",
            "  0%|          | 0/564 [00:00<?, ?it/s]"
          ],
          "name": "stderr"
        },
        {
          "output_type": "stream",
          "text": [
            "76.28928283028259\n"
          ],
          "name": "stdout"
        },
        {
          "output_type": "stream",
          "text": [
            "100%|██████████| 564/564 [00:57<00:00,  9.81it/s]\n",
            "  0%|          | 0/564 [00:00<?, ?it/s]"
          ],
          "name": "stderr"
        },
        {
          "output_type": "stream",
          "text": [
            "74.82253545427608\n"
          ],
          "name": "stdout"
        },
        {
          "output_type": "stream",
          "text": [
            "100%|██████████| 564/564 [00:57<00:00,  9.74it/s]\n",
            "  0%|          | 0/564 [00:00<?, ?it/s]"
          ],
          "name": "stderr"
        },
        {
          "output_type": "stream",
          "text": [
            "68.66939804788754\n"
          ],
          "name": "stdout"
        },
        {
          "output_type": "stream",
          "text": [
            "100%|██████████| 564/564 [00:57<00:00,  9.78it/s]\n",
            "  0%|          | 0/564 [00:00<?, ?it/s]"
          ],
          "name": "stderr"
        },
        {
          "output_type": "stream",
          "text": [
            "79.03398139038275\n"
          ],
          "name": "stdout"
        },
        {
          "output_type": "stream",
          "text": [
            "100%|██████████| 564/564 [00:58<00:00,  9.68it/s]\n"
          ],
          "name": "stderr"
        },
        {
          "output_type": "stream",
          "text": [
            "Saving model as epoch is:  60\n"
          ],
          "name": "stdout"
        },
        {
          "output_type": "stream",
          "text": [
            "\r  0%|          | 0/564 [00:00<?, ?it/s]"
          ],
          "name": "stderr"
        },
        {
          "output_type": "stream",
          "text": [
            "81.77002461652727\n"
          ],
          "name": "stdout"
        },
        {
          "output_type": "stream",
          "text": [
            "100%|██████████| 564/564 [00:57<00:00,  9.74it/s]\n",
            "  0%|          | 0/564 [00:00<?, ?it/s]"
          ],
          "name": "stderr"
        },
        {
          "output_type": "stream",
          "text": [
            "85.04984861201757\n"
          ],
          "name": "stdout"
        },
        {
          "output_type": "stream",
          "text": [
            "100%|██████████| 564/564 [00:57<00:00,  9.80it/s]\n",
            "  0%|          | 0/564 [00:00<?, ?it/s]"
          ],
          "name": "stderr"
        },
        {
          "output_type": "stream",
          "text": [
            "80.13674260172212\n"
          ],
          "name": "stdout"
        },
        {
          "output_type": "stream",
          "text": [
            "100%|██████████| 564/564 [00:58<00:00,  9.64it/s]\n",
            "  0%|          | 0/564 [00:00<?, ?it/s]"
          ],
          "name": "stderr"
        },
        {
          "output_type": "stream",
          "text": [
            "83.76990965287737\n"
          ],
          "name": "stdout"
        },
        {
          "output_type": "stream",
          "text": [
            "100%|██████████| 564/564 [00:57<00:00,  9.81it/s]\n",
            "  0%|          | 0/564 [00:00<?, ?it/s]"
          ],
          "name": "stderr"
        },
        {
          "output_type": "stream",
          "text": [
            "81.68765188487008\n"
          ],
          "name": "stdout"
        },
        {
          "output_type": "stream",
          "text": [
            "100%|██████████| 564/564 [00:57<00:00,  9.75it/s]\n"
          ],
          "name": "stderr"
        },
        {
          "output_type": "stream",
          "text": [
            "Saving model as epoch is:  65\n"
          ],
          "name": "stdout"
        },
        {
          "output_type": "stream",
          "text": [
            "\r  0%|          | 0/564 [00:00<?, ?it/s]"
          ],
          "name": "stderr"
        },
        {
          "output_type": "stream",
          "text": [
            "78.41248813229222\n"
          ],
          "name": "stdout"
        },
        {
          "output_type": "stream",
          "text": [
            "100%|██████████| 564/564 [00:58<00:00,  9.71it/s]\n",
            "  0%|          | 0/564 [00:00<?, ?it/s]"
          ],
          "name": "stderr"
        },
        {
          "output_type": "stream",
          "text": [
            "82.6152231160939\n"
          ],
          "name": "stdout"
        },
        {
          "output_type": "stream",
          "text": [
            "100%|██████████| 564/564 [00:58<00:00,  9.70it/s]\n",
            "  0%|          | 0/564 [00:00<?, ?it/s]"
          ],
          "name": "stderr"
        },
        {
          "output_type": "stream",
          "text": [
            "88.23831383935944\n"
          ],
          "name": "stdout"
        },
        {
          "output_type": "stream",
          "text": [
            "100%|██████████| 564/564 [00:57<00:00,  9.75it/s]\n",
            "  0%|          | 0/564 [00:00<?, ?it/s]"
          ],
          "name": "stderr"
        },
        {
          "output_type": "stream",
          "text": [
            "90.41768312763982\n"
          ],
          "name": "stdout"
        },
        {
          "output_type": "stream",
          "text": [
            "100%|██████████| 564/564 [00:57<00:00,  9.79it/s]\n",
            "  0%|          | 0/564 [00:00<?, ?it/s]"
          ],
          "name": "stderr"
        },
        {
          "output_type": "stream",
          "text": [
            "83.4918551989831\n"
          ],
          "name": "stdout"
        },
        {
          "output_type": "stream",
          "text": [
            "100%|██████████| 564/564 [00:57<00:00,  9.80it/s]\n"
          ],
          "name": "stderr"
        },
        {
          "output_type": "stream",
          "text": [
            "Saving model as epoch is:  70\n"
          ],
          "name": "stdout"
        },
        {
          "output_type": "stream",
          "text": [
            "\r  0%|          | 0/564 [00:00<?, ?it/s]"
          ],
          "name": "stderr"
        },
        {
          "output_type": "stream",
          "text": [
            "76.10046737308917\n"
          ],
          "name": "stdout"
        },
        {
          "output_type": "stream",
          "text": [
            "100%|██████████| 564/564 [00:57<00:00,  9.74it/s]\n",
            "  0%|          | 0/564 [00:00<?, ?it/s]"
          ],
          "name": "stderr"
        },
        {
          "output_type": "stream",
          "text": [
            "85.85987902989524\n"
          ],
          "name": "stdout"
        },
        {
          "output_type": "stream",
          "text": [
            "100%|██████████| 564/564 [00:58<00:00,  9.67it/s]\n",
            "  0%|          | 0/564 [00:00<?, ?it/s]"
          ],
          "name": "stderr"
        },
        {
          "output_type": "stream",
          "text": [
            "98.11400134232827\n"
          ],
          "name": "stdout"
        },
        {
          "output_type": "stream",
          "text": [
            "100%|██████████| 564/564 [00:57<00:00,  9.76it/s]\n",
            "  0%|          | 0/564 [00:00<?, ?it/s]"
          ],
          "name": "stderr"
        },
        {
          "output_type": "stream",
          "text": [
            "79.42265239402565\n"
          ],
          "name": "stdout"
        },
        {
          "output_type": "stream",
          "text": [
            "100%|██████████| 564/564 [00:57<00:00,  9.84it/s]\n",
            "  0%|          | 0/564 [00:00<?, ?it/s]"
          ],
          "name": "stderr"
        },
        {
          "output_type": "stream",
          "text": [
            "79.56025681993529\n"
          ],
          "name": "stdout"
        },
        {
          "output_type": "stream",
          "text": [
            "100%|██████████| 564/564 [00:57<00:00,  9.80it/s]\n"
          ],
          "name": "stderr"
        },
        {
          "output_type": "stream",
          "text": [
            "Saving model as epoch is:  75\n"
          ],
          "name": "stdout"
        },
        {
          "output_type": "stream",
          "text": [
            "\r  0%|          | 0/564 [00:00<?, ?it/s]"
          ],
          "name": "stderr"
        },
        {
          "output_type": "stream",
          "text": [
            "76.52928306115791\n"
          ],
          "name": "stdout"
        },
        {
          "output_type": "stream",
          "text": [
            "100%|██████████| 564/564 [00:58<00:00,  9.68it/s]\n",
            "  0%|          | 0/564 [00:00<?, ?it/s]"
          ],
          "name": "stderr"
        },
        {
          "output_type": "stream",
          "text": [
            "80.82042644088308\n"
          ],
          "name": "stdout"
        },
        {
          "output_type": "stream",
          "text": [
            "100%|██████████| 564/564 [00:58<00:00,  9.71it/s]\n",
            "  0%|          | 0/564 [00:00<?, ?it/s]"
          ],
          "name": "stderr"
        },
        {
          "output_type": "stream",
          "text": [
            "81.39219361873884\n"
          ],
          "name": "stdout"
        },
        {
          "output_type": "stream",
          "text": [
            "100%|██████████| 564/564 [00:58<00:00,  9.67it/s]\n",
            "  0%|          | 0/564 [00:00<?, ?it/s]"
          ],
          "name": "stderr"
        },
        {
          "output_type": "stream",
          "text": [
            "78.65002288980759\n"
          ],
          "name": "stdout"
        },
        {
          "output_type": "stream",
          "text": [
            "100%|██████████| 564/564 [00:57<00:00,  9.76it/s]\n",
            "  0%|          | 0/564 [00:00<?, ?it/s]"
          ],
          "name": "stderr"
        },
        {
          "output_type": "stream",
          "text": [
            "84.77669482699508\n"
          ],
          "name": "stdout"
        },
        {
          "output_type": "stream",
          "text": [
            "100%|██████████| 564/564 [00:57<00:00,  9.77it/s]\n"
          ],
          "name": "stderr"
        },
        {
          "output_type": "stream",
          "text": [
            "Saving model as epoch is:  80\n"
          ],
          "name": "stdout"
        },
        {
          "output_type": "stream",
          "text": [
            "\r  0%|          | 0/564 [00:00<?, ?it/s]"
          ],
          "name": "stderr"
        },
        {
          "output_type": "stream",
          "text": [
            "74.38735580101674\n"
          ],
          "name": "stdout"
        },
        {
          "output_type": "stream",
          "text": [
            "100%|██████████| 564/564 [00:58<00:00,  9.70it/s]\n",
            "  0%|          | 0/564 [00:00<?, ?it/s]"
          ],
          "name": "stderr"
        },
        {
          "output_type": "stream",
          "text": [
            "91.78423359848472\n"
          ],
          "name": "stdout"
        },
        {
          "output_type": "stream",
          "text": [
            "100%|██████████| 564/564 [00:57<00:00,  9.74it/s]\n",
            "  0%|          | 0/564 [00:00<?, ?it/s]"
          ],
          "name": "stderr"
        },
        {
          "output_type": "stream",
          "text": [
            "75.42988332272117\n"
          ],
          "name": "stdout"
        },
        {
          "output_type": "stream",
          "text": [
            "100%|██████████| 564/564 [00:57<00:00,  9.74it/s]\n",
            "  0%|          | 0/564 [00:00<?, ?it/s]"
          ],
          "name": "stderr"
        },
        {
          "output_type": "stream",
          "text": [
            "96.90996220153366\n"
          ],
          "name": "stdout"
        },
        {
          "output_type": "stream",
          "text": [
            "100%|██████████| 564/564 [00:57<00:00,  9.77it/s]\n",
            "  0%|          | 0/564 [00:00<?, ?it/s]"
          ],
          "name": "stderr"
        },
        {
          "output_type": "stream",
          "text": [
            "85.52308356742915\n"
          ],
          "name": "stdout"
        },
        {
          "output_type": "stream",
          "text": [
            "100%|██████████| 564/564 [00:57<00:00,  9.80it/s]\n"
          ],
          "name": "stderr"
        },
        {
          "output_type": "stream",
          "text": [
            "Saving model as epoch is:  85\n"
          ],
          "name": "stdout"
        },
        {
          "output_type": "stream",
          "text": [
            "\r  0%|          | 0/564 [00:00<?, ?it/s]"
          ],
          "name": "stderr"
        },
        {
          "output_type": "stream",
          "text": [
            "81.27917561269517\n"
          ],
          "name": "stdout"
        },
        {
          "output_type": "stream",
          "text": [
            "100%|██████████| 564/564 [00:58<00:00,  9.68it/s]\n",
            "  0%|          | 0/564 [00:00<?, ?it/s]"
          ],
          "name": "stderr"
        },
        {
          "output_type": "stream",
          "text": [
            "81.10879318987712\n"
          ],
          "name": "stdout"
        },
        {
          "output_type": "stream",
          "text": [
            "100%|██████████| 564/564 [00:58<00:00,  9.72it/s]\n",
            "  0%|          | 0/564 [00:00<?, ?it/s]"
          ],
          "name": "stderr"
        },
        {
          "output_type": "stream",
          "text": [
            "72.73835241872969\n"
          ],
          "name": "stdout"
        },
        {
          "output_type": "stream",
          "text": [
            "100%|██████████| 564/564 [00:57<00:00,  9.76it/s]\n",
            "  0%|          | 0/564 [00:00<?, ?it/s]"
          ],
          "name": "stderr"
        },
        {
          "output_type": "stream",
          "text": [
            "84.0034261199041\n"
          ],
          "name": "stdout"
        },
        {
          "output_type": "stream",
          "text": [
            "100%|██████████| 564/564 [00:57<00:00,  9.77it/s]\n",
            "  0%|          | 0/564 [00:00<?, ?it/s]"
          ],
          "name": "stderr"
        },
        {
          "output_type": "stream",
          "text": [
            "84.77333543992569\n"
          ],
          "name": "stdout"
        },
        {
          "output_type": "stream",
          "text": [
            "100%|██████████| 564/564 [00:57<00:00,  9.78it/s]\n"
          ],
          "name": "stderr"
        },
        {
          "output_type": "stream",
          "text": [
            "Saving model as epoch is:  90\n"
          ],
          "name": "stdout"
        },
        {
          "output_type": "stream",
          "text": [
            "\r  0%|          | 0/564 [00:00<?, ?it/s]"
          ],
          "name": "stderr"
        },
        {
          "output_type": "stream",
          "text": [
            "89.45190182988684\n"
          ],
          "name": "stdout"
        },
        {
          "output_type": "stream",
          "text": [
            "100%|██████████| 564/564 [00:58<00:00,  9.70it/s]\n",
            "  0%|          | 0/564 [00:00<?, ?it/s]"
          ],
          "name": "stderr"
        },
        {
          "output_type": "stream",
          "text": [
            "92.02992387360428\n"
          ],
          "name": "stdout"
        },
        {
          "output_type": "stream",
          "text": [
            "100%|██████████| 564/564 [00:58<00:00,  9.71it/s]\n",
            "  0%|          | 0/564 [00:00<?, ?it/s]"
          ],
          "name": "stderr"
        },
        {
          "output_type": "stream",
          "text": [
            "96.20974604891374\n"
          ],
          "name": "stdout"
        },
        {
          "output_type": "stream",
          "text": [
            "100%|██████████| 564/564 [00:57<00:00,  9.75it/s]\n",
            "  0%|          | 0/564 [00:00<?, ?it/s]"
          ],
          "name": "stderr"
        },
        {
          "output_type": "stream",
          "text": [
            "86.00977167123149\n"
          ],
          "name": "stdout"
        },
        {
          "output_type": "stream",
          "text": [
            "100%|██████████| 564/564 [00:57<00:00,  9.80it/s]\n",
            "  0%|          | 0/564 [00:00<?, ?it/s]"
          ],
          "name": "stderr"
        },
        {
          "output_type": "stream",
          "text": [
            "86.61859511745075\n"
          ],
          "name": "stdout"
        },
        {
          "output_type": "stream",
          "text": [
            "100%|██████████| 564/564 [00:57<00:00,  9.76it/s]\n"
          ],
          "name": "stderr"
        },
        {
          "output_type": "stream",
          "text": [
            "Saving model as epoch is:  95\n"
          ],
          "name": "stdout"
        },
        {
          "output_type": "stream",
          "text": [
            "\r  0%|          | 0/564 [00:00<?, ?it/s]"
          ],
          "name": "stderr"
        },
        {
          "output_type": "stream",
          "text": [
            "87.27960167295137\n"
          ],
          "name": "stdout"
        },
        {
          "output_type": "stream",
          "text": [
            "100%|██████████| 564/564 [00:57<00:00,  9.73it/s]\n",
            "  0%|          | 0/564 [00:00<?, ?it/s]"
          ],
          "name": "stderr"
        },
        {
          "output_type": "stream",
          "text": [
            "96.47915244604224\n"
          ],
          "name": "stdout"
        },
        {
          "output_type": "stream",
          "text": [
            "100%|██████████| 564/564 [00:57<00:00,  9.77it/s]\n",
            "  0%|          | 0/564 [00:00<?, ?it/s]"
          ],
          "name": "stderr"
        },
        {
          "output_type": "stream",
          "text": [
            "84.87938176690362\n"
          ],
          "name": "stdout"
        },
        {
          "output_type": "stream",
          "text": [
            "100%|██████████| 564/564 [00:57<00:00,  9.77it/s]\n",
            "  0%|          | 0/564 [00:00<?, ?it/s]"
          ],
          "name": "stderr"
        },
        {
          "output_type": "stream",
          "text": [
            "84.01639162024169\n"
          ],
          "name": "stdout"
        },
        {
          "output_type": "stream",
          "text": [
            "100%|██████████| 564/564 [00:57<00:00,  9.84it/s]\n"
          ],
          "name": "stderr"
        },
        {
          "output_type": "stream",
          "text": [
            "99.91030441823719\n",
            "training done!\n"
          ],
          "name": "stdout"
        }
      ]
    },
    {
      "cell_type": "code",
      "metadata": {
        "colab": {
          "base_uri": "https://localhost:8080/"
        },
        "id": "j31ArLK5YRgq",
        "outputId": "cd0fb686-7b43-485c-d0a3-5e03a7139a14"
      },
      "source": [
        "model_save_name = 'res_50_46.pt' \n",
        "path = F\"/content/gdrive/My Drive/{model_save_name}\"\n",
        "model.load_state_dict(torch.load(path))\n",
        "model.eval()\n",
        "model.cuda()\n",
        "\n",
        "folder_dataset_test = dset.ImageFolder(root=Config.testing_dir)\n",
        "folder_dataset_test = dset.ImageFolder(root=Config.training_dir)\n",
        "siamese_dataset = SiameseNetworkDataset(imageFolderDataset=folder_dataset_test,\n",
        "                                        transform=preprocess, fixed=True)\n",
        "best_thresh = None\n",
        "best_accuracy = -1\n",
        "\n",
        "\n",
        "\n",
        "for test_it in range(30):\n",
        "    counter = Counter()\n",
        "    threshold = (test_it + 1) * 0.1\n",
        "    test_dataloader = DataLoader(siamese_dataset,num_workers=6,batch_size=1,shuffle=False)\n",
        "    dataiter1 = iter(test_dataloader)\n",
        "\n",
        "    correct = 0\n",
        "    wrong = 0\n",
        "    for i in range(len(dataiter1)):\n",
        "        x0,x1,tt0,tt1, label = next(dataiter1)\n",
        "        \n",
        "        with torch.no_grad():\n",
        "            enc0 = model(x0.cuda())\n",
        "            enc1 = model(x1.cuda())\n",
        "            euclidean_distance = F.pairwise_distance(enc0, enc1)\n",
        "\n",
        "        the_distance = euclidean_distance.item()\n",
        "\n",
        "\n",
        "        if the_distance > threshold:\n",
        "            same = 0\n",
        "        else:\n",
        "            same = 1\n",
        "\n",
        "        if same == 0 and label.item() == 0:\n",
        "          counter[\"TN\"] += 1\n",
        "        elif same == 0 and label.item() == 1:\n",
        "          counter[\"FN\"] += 1\n",
        "        elif same == 1 and label.item() == 0:\n",
        "          counter[\"FP\"] += 1\n",
        "        else:\n",
        "          counter[\"TP\"] += 1\n",
        "\n",
        "        if same == label.item():\n",
        "            correct += 1\n",
        "        else:\n",
        "            wrong += 1\n",
        "    acc = correct / (correct + wrong)\n",
        "    print(\"Th: {:.2f}  Accuracy: {:.4f}\".format(threshold, acc))\n",
        "    print(counter)\n",
        "    if acc > best_accuracy:\n",
        "        print(\"\\tnew best acc!!!!\")\n",
        "        best_accuracy = acc\n",
        "        best_thresh = threshold\n",
        "        \n",
        "        \n",
        "          \n",
        "\n",
        "print(\"the best threshold is:\", best_thresh, \"with accuracy: \", best_accuracy)\n"
      ],
      "execution_count": 24,
      "outputs": [
        {
          "output_type": "stream",
          "text": [
            "None\n",
            "Th: 0.10  Accuracy: 0.0024\n",
            "Counter({'FN': 1686, 'TN': 4})\n",
            "\tnew best acc!!!!\n",
            "Th: 0.20  Accuracy: 0.0024\n",
            "Counter({'FN': 1686, 'TN': 4})\n",
            "Th: 0.30  Accuracy: 0.0030\n",
            "Counter({'FN': 1685, 'TN': 4, 'TP': 1})\n",
            "\tnew best acc!!!!\n",
            "Th: 0.40  Accuracy: 0.0065\n",
            "Counter({'FN': 1679, 'TP': 7, 'TN': 4})\n",
            "\tnew best acc!!!!\n",
            "Th: 0.50  Accuracy: 0.0219\n",
            "Counter({'FN': 1653, 'TP': 33, 'TN': 4})\n",
            "\tnew best acc!!!!\n",
            "Th: 0.60  Accuracy: 0.0367\n",
            "Counter({'FN': 1628, 'TP': 58, 'TN': 4})\n",
            "\tnew best acc!!!!\n",
            "Th: 0.70  Accuracy: 0.0562\n",
            "Counter({'FN': 1594, 'TP': 92, 'TN': 3, 'FP': 1})\n",
            "\tnew best acc!!!!\n",
            "Th: 0.80  Accuracy: 0.0929\n",
            "Counter({'FN': 1531, 'TP': 155, 'FP': 2, 'TN': 2})\n",
            "\tnew best acc!!!!\n",
            "Th: 0.90  Accuracy: 0.1284\n",
            "Counter({'FN': 1471, 'TP': 215, 'FP': 2, 'TN': 2})\n",
            "\tnew best acc!!!!\n",
            "Th: 1.00  Accuracy: 0.1840\n",
            "Counter({'FN': 1377, 'TP': 309, 'FP': 2, 'TN': 2})\n",
            "\tnew best acc!!!!\n",
            "Th: 1.10  Accuracy: 0.2379\n",
            "Counter({'FN': 1286, 'TP': 400, 'FP': 2, 'TN': 2})\n",
            "\tnew best acc!!!!\n",
            "Th: 1.20  Accuracy: 0.2870\n",
            "Counter({'FN': 1203, 'TP': 483, 'FP': 2, 'TN': 2})\n",
            "\tnew best acc!!!!\n",
            "Th: 1.30  Accuracy: 0.3509\n",
            "Counter({'FN': 1094, 'TP': 592, 'FP': 3, 'TN': 1})\n",
            "\tnew best acc!!!!\n",
            "Th: 1.40  Accuracy: 0.4047\n",
            "Counter({'FN': 1003, 'TP': 683, 'FP': 3, 'TN': 1})\n",
            "\tnew best acc!!!!\n",
            "Th: 1.50  Accuracy: 0.4763\n",
            "Counter({'FN': 882, 'TP': 804, 'FP': 3, 'TN': 1})\n",
            "\tnew best acc!!!!\n",
            "Th: 1.60  Accuracy: 0.5414\n",
            "Counter({'TP': 914, 'FN': 772, 'FP': 3, 'TN': 1})\n",
            "\tnew best acc!!!!\n",
            "Th: 1.70  Accuracy: 0.6000\n",
            "Counter({'TP': 1014, 'FN': 672, 'FP': 4})\n",
            "\tnew best acc!!!!\n",
            "Th: 1.80  Accuracy: 0.6538\n",
            "Counter({'TP': 1105, 'FN': 581, 'FP': 4})\n",
            "\tnew best acc!!!!\n",
            "Th: 1.90  Accuracy: 0.7053\n",
            "Counter({'TP': 1192, 'FN': 494, 'FP': 4})\n",
            "\tnew best acc!!!!\n",
            "Th: 2.00  Accuracy: 0.7562\n",
            "Counter({'TP': 1278, 'FN': 408, 'FP': 4})\n",
            "\tnew best acc!!!!\n",
            "Th: 2.10  Accuracy: 0.7953\n",
            "Counter({'TP': 1344, 'FN': 342, 'FP': 4})\n",
            "\tnew best acc!!!!\n",
            "Th: 2.20  Accuracy: 0.8266\n",
            "Counter({'TP': 1397, 'FN': 289, 'FP': 4})\n",
            "\tnew best acc!!!!\n",
            "Th: 2.30  Accuracy: 0.8556\n",
            "Counter({'TP': 1446, 'FN': 240, 'FP': 4})\n",
            "\tnew best acc!!!!\n",
            "Th: 2.40  Accuracy: 0.8757\n",
            "Counter({'TP': 1480, 'FN': 206, 'FP': 4})\n",
            "\tnew best acc!!!!\n",
            "Th: 2.50  Accuracy: 0.8959\n",
            "Counter({'TP': 1514, 'FN': 172, 'FP': 4})\n",
            "\tnew best acc!!!!\n",
            "Th: 2.60  Accuracy: 0.9089\n",
            "Counter({'TP': 1536, 'FN': 150, 'FP': 4})\n",
            "\tnew best acc!!!!\n",
            "Th: 2.70  Accuracy: 0.9231\n",
            "Counter({'TP': 1560, 'FN': 126, 'FP': 4})\n",
            "\tnew best acc!!!!\n",
            "Th: 2.80  Accuracy: 0.9367\n",
            "Counter({'TP': 1583, 'FN': 103, 'FP': 4})\n",
            "\tnew best acc!!!!\n",
            "Th: 2.90  Accuracy: 0.9438\n",
            "Counter({'TP': 1595, 'FN': 91, 'FP': 4})\n",
            "\tnew best acc!!!!\n",
            "Th: 3.00  Accuracy: 0.9538\n",
            "Counter({'TP': 1612, 'FN': 74, 'FP': 4})\n",
            "\tnew best acc!!!!\n",
            "the best threshold is: 3.0 with accuracy:  0.9538461538461539\n"
          ],
          "name": "stdout"
        }
      ]
    },
    {
      "cell_type": "code",
      "metadata": {
        "id": "yH60rPJqhCIi"
      },
      "source": [
        ""
      ],
      "execution_count": null,
      "outputs": []
    },
    {
      "cell_type": "code",
      "metadata": {
        "colab": {
          "base_uri": "https://localhost:8080/"
        },
        "id": "lEIGGw4PTu9h",
        "outputId": "2b37f1bd-9169-493a-e318-a12d3f36cd50"
      },
      "source": [
        "!nvidia-smi"
      ],
      "execution_count": 14,
      "outputs": [
        {
          "output_type": "stream",
          "text": [
            "Wed Dec  2 12:50:31 2020       \n",
            "+-----------------------------------------------------------------------------+\n",
            "| NVIDIA-SMI 455.38       Driver Version: 418.67       CUDA Version: 10.1     |\n",
            "|-------------------------------+----------------------+----------------------+\n",
            "| GPU  Name        Persistence-M| Bus-Id        Disp.A | Volatile Uncorr. ECC |\n",
            "| Fan  Temp  Perf  Pwr:Usage/Cap|         Memory-Usage | GPU-Util  Compute M. |\n",
            "|                               |                      |               MIG M. |\n",
            "|===============================+======================+======================|\n",
            "|   0  Tesla T4            Off  | 00000000:00:04.0 Off |                    0 |\n",
            "| N/A   75C    P0    35W /  70W |   2293MiB / 15079MiB |      0%      Default |\n",
            "|                               |                      |                 ERR! |\n",
            "+-------------------------------+----------------------+----------------------+\n",
            "                                                                               \n",
            "+-----------------------------------------------------------------------------+\n",
            "| Processes:                                                                  |\n",
            "|  GPU   GI   CI        PID   Type   Process name                  GPU Memory |\n",
            "|        ID   ID                                                   Usage      |\n",
            "|=============================================================================|\n",
            "|  No running processes found                                                 |\n",
            "+-----------------------------------------------------------------------------+\n"
          ],
          "name": "stdout"
        }
      ]
    },
    {
      "cell_type": "code",
      "metadata": {
        "colab": {
          "base_uri": "https://localhost:8080/"
        },
        "id": "40zdcwOyWDjd",
        "outputId": "a3869cb2-77eb-4a97-ce5f-17e7295f41ba"
      },
      "source": [
        "!ps -aux|grep python"
      ],
      "execution_count": 16,
      "outputs": [
        {
          "output_type": "stream",
          "text": [
            "root          48  1.2  0.4 195436 61496 ?        Sl   10:04   2:06 /usr/bin/python2 /usr/local/bin/jupyter-notebook --ip=\"172.28.0.2\" --port=9000 --FileContentsManager.root_dir=\"/\" --LargeFileManager.delete_to_trash=False --MappingKernelManager.root_dir=\"/content\"\n",
            "root         258  0.0  0.0  18384  3028 ?        S    10:05   0:00 bash -c tail -n +0 -F \"/root/.config/Google/DriveFS/Logs/drive_fs.txt\" | python3 /opt/google/drive/drive-filter.py > \"/root/.config/Google/DriveFS/Logs/timeouts.txt\" \n",
            "root         260  0.0  0.0  29216  9360 ?        S    10:05   0:00 python3 /opt/google/drive/drive-filter.py\n",
            "root        2556  0.0  0.0      0     0 ?        Z    10:48   0:02 [python3] <defunct>\n",
            "root        2557  0.0  0.0      0     0 ?        Z    10:48   0:02 [python3] <defunct>\n",
            "root        2558  0.0  0.0      0     0 ?        Z    10:48   0:02 [python3] <defunct>\n",
            "root        2559  0.0  0.0      0     0 ?        Z    10:48   0:02 [python3] <defunct>\n",
            "root        2560  0.0  0.0      0     0 ?        Z    10:48   0:02 [python3] <defunct>\n",
            "root        2561  0.0  0.0      0     0 ?        Z    10:48   0:02 [python3] <defunct>\n",
            "root        2562  0.0  0.0      0     0 ?        Z    10:48   0:02 [python3] <defunct>\n",
            "root        2563  0.0  0.0      0     0 ?        Z    10:48   0:02 [python3] <defunct>\n",
            "root        2603 84.9 27.8 12840380 3719156 ?    Ssl  10:49 103:39 /usr/bin/python3 -m ipykernel_launcher -f /root/.local/share/jupyter/runtime/kernel-6d9c4ed6-f717-4e21-b9df-847382a740f0.json\n",
            "root       10350  0.0  0.0  39200  6324 ?        S    12:51   0:00 /bin/bash -c ps -aux|grep python\n",
            "root       10352  0.0  0.0  38580  4936 ?        S    12:51   0:00 grep python\n"
          ],
          "name": "stdout"
        }
      ]
    },
    {
      "cell_type": "code",
      "metadata": {
        "id": "wTHg8R82X_sn"
      },
      "source": [
        "!kill 2603\n"
      ],
      "execution_count": null,
      "outputs": []
    },
    {
      "cell_type": "code",
      "metadata": {
        "id": "7k4wGZyMz0iY"
      },
      "source": [
        ""
      ],
      "execution_count": null,
      "outputs": []
    }
  ]
}